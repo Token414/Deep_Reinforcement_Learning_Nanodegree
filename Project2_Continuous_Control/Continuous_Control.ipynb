{
 "cells": [
  {
   "cell_type": "markdown",
   "metadata": {},
   "source": [
    "# Continuous Control\n",
    "\n",
    "---\n",
    "\n",
    "In this notebook, you will learn how to use the Unity ML-Agents environment for the second project of the [Deep Reinforcement Learning Nanodegree](https://www.udacity.com/course/deep-reinforcement-learning-nanodegree--nd893) program.\n",
    "\n",
    "### 1. Start the Environment\n",
    "\n",
    "We begin by importing the necessary packages.  If the code cell below returns an error, please revisit the project instructions to double-check that you have installed [Unity ML-Agents](https://github.com/Unity-Technologies/ml-agents/blob/master/docs/Installation.md) and [NumPy](http://www.numpy.org/)."
   ]
  },
  {
   "cell_type": "code",
   "execution_count": 1,
   "metadata": {},
   "outputs": [],
   "source": [
    "from unityagents import UnityEnvironment\n",
    "import numpy as np"
   ]
  },
  {
   "cell_type": "markdown",
   "metadata": {},
   "source": [
    "Next, we will start the environment!  **_Before running the code cell below_**, change the `file_name` parameter to match the location of the Unity environment that you downloaded.\n",
    "\n",
    "- **Mac**: `\"path/to/Reacher.app\"`\n",
    "- **Windows** (x86): `\"path/to/Reacher_Windows_x86/Reacher.exe\"`\n",
    "- **Windows** (x86_64): `\"path/to/Reacher_Windows_x86_64/Reacher.exe\"`\n",
    "- **Linux** (x86): `\"path/to/Reacher_Linux/Reacher.x86\"`\n",
    "- **Linux** (x86_64): `\"path/to/Reacher_Linux/Reacher.x86_64\"`\n",
    "- **Linux** (x86, headless): `\"path/to/Reacher_Linux_NoVis/Reacher.x86\"`\n",
    "- **Linux** (x86_64, headless): `\"path/to/Reacher_Linux_NoVis/Reacher.x86_64\"`\n",
    "\n",
    "For instance, if you are using a Mac, then you downloaded `Reacher.app`.  If this file is in the same folder as the notebook, then the line below should appear as follows:\n",
    "```\n",
    "env = UnityEnvironment(file_name=\"Reacher.app\")\n",
    "```"
   ]
  },
  {
   "cell_type": "code",
   "execution_count": 2,
   "metadata": {},
   "outputs": [
    {
     "name": "stderr",
     "output_type": "stream",
     "text": [
      "INFO:unityagents:\n",
      "'Academy' started successfully!\n",
      "Unity Academy name: Academy\n",
      "        Number of Brains: 1\n",
      "        Number of External Brains : 1\n",
      "        Lesson number : 0\n",
      "        Reset Parameters :\n",
      "\t\tgoal_speed -> 1.0\n",
      "\t\tgoal_size -> 5.0\n",
      "Unity brain name: ReacherBrain\n",
      "        Number of Visual Observations (per agent): 0\n",
      "        Vector Observation space type: continuous\n",
      "        Vector Observation space size (per agent): 33\n",
      "        Number of stacked Vector Observation: 1\n",
      "        Vector Action space type: continuous\n",
      "        Vector Action space size (per agent): 4\n",
      "        Vector Action descriptions: , , , \n"
     ]
    }
   ],
   "source": [
    "env = UnityEnvironment(file_name='Reacher_Windows_x86_64/Reacher.exe')"
   ]
  },
  {
   "cell_type": "markdown",
   "metadata": {},
   "source": [
    "Environments contain **_brains_** which are responsible for deciding the actions of their associated agents. Here we check for the first brain available, and set it as the default brain we will be controlling from Python."
   ]
  },
  {
   "cell_type": "code",
   "execution_count": 3,
   "metadata": {},
   "outputs": [],
   "source": [
    "# get the default brain\n",
    "brain_name = env.brain_names[0]\n",
    "brain = env.brains[brain_name]"
   ]
  },
  {
   "cell_type": "markdown",
   "metadata": {},
   "source": [
    "### 2. Examine the State and Action Spaces\n",
    "\n",
    "In this environment, a double-jointed arm can move to target locations. A reward of `+0.1` is provided for each step that the agent's hand is in the goal location. Thus, the goal of your agent is to maintain its position at the target location for as many time steps as possible.\n",
    "\n",
    "The observation space consists of `33` variables corresponding to position, rotation, velocity, and angular velocities of the arm.  Each action is a vector with four numbers, corresponding to torque applicable to two joints.  Every entry in the action vector must be a number between `-1` and `1`.\n",
    "\n",
    "Run the code cell below to print some information about the environment."
   ]
  },
  {
   "cell_type": "code",
   "execution_count": 4,
   "metadata": {},
   "outputs": [
    {
     "name": "stdout",
     "output_type": "stream",
     "text": [
      "Number of agents: 20\n",
      "Size of each action: 4\n",
      "There are 20 agents. Each observes a state with length: 33\n",
      "The state for the first agent looks like: [ 0.00000000e+00 -4.00000000e+00  0.00000000e+00  1.00000000e+00\n",
      " -0.00000000e+00 -0.00000000e+00 -4.37113883e-08  0.00000000e+00\n",
      "  0.00000000e+00  0.00000000e+00  0.00000000e+00  0.00000000e+00\n",
      "  0.00000000e+00  0.00000000e+00 -1.00000000e+01  0.00000000e+00\n",
      "  1.00000000e+00 -0.00000000e+00 -0.00000000e+00 -4.37113883e-08\n",
      "  0.00000000e+00  0.00000000e+00  0.00000000e+00  0.00000000e+00\n",
      "  0.00000000e+00  0.00000000e+00  5.75471878e+00 -1.00000000e+00\n",
      "  5.55726624e+00  0.00000000e+00  1.00000000e+00  0.00000000e+00\n",
      " -1.68164849e-01]\n"
     ]
    }
   ],
   "source": [
    "# reset the environment\n",
    "env_info = env.reset(train_mode=True)[brain_name]\n",
    "\n",
    "# number of agents\n",
    "num_agents = len(env_info.agents)\n",
    "print('Number of agents:', num_agents)\n",
    "\n",
    "# size of each action\n",
    "action_size = brain.vector_action_space_size\n",
    "print('Size of each action:', action_size)\n",
    "\n",
    "# examine the state space \n",
    "states = env_info.vector_observations\n",
    "state_size = states.shape[1]\n",
    "print('There are {} agents. Each observes a state with length: {}'.format(states.shape[0], state_size))\n",
    "print('The state for the first agent looks like:', states[0])"
   ]
  },
  {
   "cell_type": "markdown",
   "metadata": {},
   "source": [
    "### 3. Reset the environment and initi the Agent\n",
    "\n",
    "The next cell is to reset the environment to training mode, for faster learning. \n",
    "get the current states and initialize a score array. \n",
    "\n",
    "Also the agent class and some packages are loaded. "
   ]
  },
  {
   "cell_type": "code",
   "execution_count": 5,
   "metadata": {},
   "outputs": [],
   "source": [
    "env_info = env.reset(train_mode=True)[brain_name]     # reset the environment    \n",
    "states = env_info.vector_observations                  # get the current state (for each agent)\n",
    "scores = np.zeros(num_agents)                          # initialize the score (for each agent)"
   ]
  },
  {
   "cell_type": "code",
   "execution_count": 6,
   "metadata": {},
   "outputs": [],
   "source": [
    "from ddpg_agent import Agent\n",
    "from collections import deque\n",
    "from datetime import datetime\n",
    "import torch\n",
    "\n",
    "# Initialize Feed-forward DNNs for Actor and Critic models. \n",
    "agent = Agent(state_size = env_info.vector_observations.shape[1] , action_size = brain.vector_action_space_size ,random_seed=42)\n",
    "\n",
    "# get some date and time for same names \n",
    "now = datetime.now()\n",
    "d = now.strftime(\"%Y-%m-%d_%H-%M-%S\")\n"
   ]
  },
  {
   "cell_type": "markdown",
   "metadata": {},
   "source": [
    "### 4. Training the Agents\n",
    "\n",
    "The Agents will be trained over episodes and each episode has a limited maximum time. The max time is needed to not get stuck in  one episode if break condition is not reached. "
   ]
  },
  {
   "cell_type": "code",
   "execution_count": 8,
   "metadata": {},
   "outputs": [],
   "source": [
    "\n",
    "import torch\n",
    "import numpy as np\n",
    "from collections import deque\n",
    "from unityagents import UnityEnvironment\n",
    "from ddpg_agent import Agent\n",
    "\n",
    "\n",
    "def train_ddpg(n_episodes=1000, max_t=1000, solved_score=31.0, score_episodes=100,  train_mode=True):\n",
    "    \"\"\" DDPG - Deep Deterministic Policy Gradient\n",
    "    Train a reinforcement agent  (s) over n episodes \n",
    "    \n",
    "    Params\n",
    "    ======\n",
    "        n_episodes (int)      : maximum number of training episodes\n",
    "        max_t (int)           : maximum number of timesteps per episode\n",
    "        train_mode (bool)     : if 'True' set environment to training mode\n",
    "        solved_score (float)  : minimum average score over 'score_episodes' to solve the environment\n",
    "        score_episodes  (int) : number of episodes the agents must reach minimum score to solve environment\n",
    "\n",
    "    \"\"\"\n",
    "    \n",
    "    actor_weights ='trained_agent/actor_weights.pth'\n",
    "    critic_weights ='trained_agent/critic_weights.pth'\n",
    "    \n",
    "    mean_scores = []                               # mean scores from each episode\n",
    "    min_scores = []                                # lowest scores from each episode\n",
    "    max_scores = []                                # highest scores from each episode\n",
    "    best_score = -np.inf\n",
    "    scores_window = deque(maxlen=score_episodes )  # deque of mean scores over last score_episodes\n",
    "    moving_avgs = []                               # moving average to solve env\n",
    "    \n",
    "    for i_episode in range(1, n_episodes+1):\n",
    "        env_info = env.reset(train_mode=train_mode)[brain_name] # reset environment\n",
    "        states = env_info.vector_observations                   # get current state for each agent      \n",
    "        scores = np.zeros(num_agents)                           # initialize score for each agent\n",
    "        agent.reset()\n",
    "\n",
    "        for t in range(max_t):\n",
    "            # loop ovrt  t_max timesteps\n",
    "            actions = agent.act(states, add_noise=True)         # select an action\n",
    "            env_info = env.step(actions)[brain_name]            # send actions to environment\n",
    "            next_states = env_info.vector_observations          # get next state\n",
    "            rewards = env_info.rewards                          # get reward\n",
    "            dones = env_info.local_done                         # see if episode has finished\n",
    "            \n",
    "            # save experience to replay buffer, perform learning step at defined interval\n",
    "            for state, action, reward, next_state, done in zip(states, actions, rewards, next_states, dones):\n",
    "                agent.step(state, action, reward, next_state, done, t)\n",
    "            states = next_states\n",
    "            scores += rewards        \n",
    "            if np.any(dones):                                   # exit loop when episode ends\n",
    "                break\n",
    "\n",
    "        min_scores.append(np.min(scores))             # min score over all agents\n",
    "        max_scores.append(np.max(scores))             # max score  over all agents \n",
    "        mean_scores.append(np.mean(scores))           # mean score  over all agents for the episode\n",
    "        scores_window.append(mean_scores[-1])         # mean score to window\n",
    "        moving_avgs.append(np.mean(scores_window))    # moving average\n",
    "\n",
    "        \n",
    "        print('\\rEpisode {}  -- \\tmin: {:.1f}\\tmax: {:.1f}\\tmean: {:.1f}\\tmov. avg: {:.1f}'.format(\\\n",
    "            i_episode,  min_scores[-1], max_scores[-1], mean_scores[-1], moving_avgs[-1]))\n",
    "        \n",
    "        if train_mode and mean_scores[-1] > best_score:\n",
    "            torch.save(agent.actor_local.state_dict(), actor_weights)\n",
    "            torch.save(agent.critic_local.state_dict(), critic_weights)\n",
    "                  \n",
    "        if moving_avgs[-1] >= solved_score and i_episode >= score_episodes :\n",
    "            print('\\nEnvironment SOLVED in {} episodes!\\tmov avg ={:.1f} over last {} episodes'.format(\\\n",
    "                                    i_episode-score_episodes , moving_avgs[-1], score_episodes ))            \n",
    "            if train_mode:\n",
    "                torch.save(agent.actor_local.state_dict(), 'checkpoint_'+d+'_actor_Solved.pth')\n",
    "                torch.save(agent.critic_local.state_dict(), 'checkpoint_'+d+'_critic_Solved.pth') \n",
    "            break\n",
    "            \n",
    "    return mean_scores, moving_avgs\n",
    "\n",
    "\n",
    "\n"
   ]
  },
  {
   "cell_type": "code",
   "execution_count": 9,
   "metadata": {},
   "outputs": [
    {
     "name": "stderr",
     "output_type": "stream",
     "text": [
      "C:\\Users\\Token\\miniconda3\\envs\\drlnd\\lib\\site-packages\\torch\\nn\\functional.py:1628: UserWarning: nn.functional.tanh is deprecated. Use torch.tanh instead.\n",
      "  warnings.warn(\"nn.functional.tanh is deprecated. Use torch.tanh instead.\")\n"
     ]
    },
    {
     "name": "stdout",
     "output_type": "stream",
     "text": [
      "Episode 1  -- \tmin: 0.0\tmax: 0.6\tmean: 0.1\tmov. avg: 0.1\n",
      "Episode 2  -- \tmin: 0.3\tmax: 1.5\tmean: 0.8\tmov. avg: 0.4\n",
      "Episode 3  -- \tmin: 0.2\tmax: 1.8\tmean: 0.9\tmov. avg: 0.6\n",
      "Episode 4  -- \tmin: 0.3\tmax: 2.4\tmean: 1.1\tmov. avg: 0.7\n",
      "Episode 5  -- \tmin: 0.7\tmax: 4.8\tmean: 2.0\tmov. avg: 1.0\n",
      "Episode 6  -- \tmin: 1.1\tmax: 4.3\tmean: 2.5\tmov. avg: 1.2\n",
      "Episode 7  -- \tmin: 0.6\tmax: 4.3\tmean: 2.3\tmov. avg: 1.4\n",
      "Episode 8  -- \tmin: 1.8\tmax: 5.8\tmean: 3.0\tmov. avg: 1.6\n",
      "Episode 9  -- \tmin: 0.9\tmax: 4.9\tmean: 2.9\tmov. avg: 1.7\n",
      "Episode 10  -- \tmin: 1.4\tmax: 6.5\tmean: 3.5\tmov. avg: 1.9\n",
      "Episode 11  -- \tmin: 1.7\tmax: 7.2\tmean: 4.2\tmov. avg: 2.1\n",
      "Episode 12  -- \tmin: 1.9\tmax: 6.3\tmean: 3.7\tmov. avg: 2.2\n",
      "Episode 13  -- \tmin: 1.7\tmax: 8.5\tmean: 5.0\tmov. avg: 2.5\n",
      "Episode 14  -- \tmin: 2.3\tmax: 7.4\tmean: 4.7\tmov. avg: 2.6\n",
      "Episode 15  -- \tmin: 1.9\tmax: 10.7\tmean: 5.4\tmov. avg: 2.8\n",
      "Episode 16  -- \tmin: 2.4\tmax: 11.1\tmean: 5.9\tmov. avg: 3.0\n",
      "Episode 17  -- \tmin: 3.4\tmax: 10.5\tmean: 6.6\tmov. avg: 3.2\n",
      "Episode 18  -- \tmin: 3.2\tmax: 12.0\tmean: 7.1\tmov. avg: 3.4\n",
      "Episode 19  -- \tmin: 3.2\tmax: 14.0\tmean: 7.7\tmov. avg: 3.6\n",
      "Episode 20  -- \tmin: 2.9\tmax: 23.9\tmean: 9.8\tmov. avg: 4.0\n",
      "Episode 21  -- \tmin: 2.8\tmax: 16.1\tmean: 8.8\tmov. avg: 4.2\n",
      "Episode 22  -- \tmin: 5.3\tmax: 24.2\tmean: 10.1\tmov. avg: 4.5\n",
      "Episode 23  -- \tmin: 5.3\tmax: 12.4\tmean: 9.1\tmov. avg: 4.7\n",
      "Episode 24  -- \tmin: 3.0\tmax: 15.1\tmean: 9.6\tmov. avg: 4.9\n",
      "Episode 25  -- \tmin: 4.7\tmax: 16.8\tmean: 10.5\tmov. avg: 5.1\n",
      "Episode 26  -- \tmin: 7.0\tmax: 23.0\tmean: 12.8\tmov. avg: 5.4\n",
      "Episode 27  -- \tmin: 9.6\tmax: 20.2\tmean: 12.0\tmov. avg: 5.6\n",
      "Episode 28  -- \tmin: 6.1\tmax: 14.0\tmean: 11.7\tmov. avg: 5.8\n",
      "Episode 29  -- \tmin: 4.5\tmax: 18.7\tmean: 10.4\tmov. avg: 6.0\n",
      "Episode 30  -- \tmin: 6.1\tmax: 24.0\tmean: 12.5\tmov. avg: 6.2\n",
      "Episode 31  -- \tmin: 8.0\tmax: 30.2\tmean: 15.0\tmov. avg: 6.5\n",
      "Episode 32  -- \tmin: 10.6\tmax: 19.9\tmean: 16.4\tmov. avg: 6.8\n",
      "Episode 33  -- \tmin: 9.4\tmax: 21.8\tmean: 15.1\tmov. avg: 7.1\n",
      "Episode 34  -- \tmin: 12.1\tmax: 23.8\tmean: 17.0\tmov. avg: 7.4\n",
      "Episode 35  -- \tmin: 11.3\tmax: 26.2\tmean: 17.2\tmov. avg: 7.6\n",
      "Episode 36  -- \tmin: 11.6\tmax: 27.8\tmean: 19.2\tmov. avg: 8.0\n",
      "Episode 37  -- \tmin: 16.4\tmax: 29.6\tmean: 20.4\tmov. avg: 8.3\n",
      "Episode 38  -- \tmin: 14.4\tmax: 25.8\tmean: 20.4\tmov. avg: 8.6\n",
      "Episode 39  -- \tmin: 13.9\tmax: 32.5\tmean: 21.7\tmov. avg: 9.0\n",
      "Episode 40  -- \tmin: 13.5\tmax: 38.1\tmean: 22.1\tmov. avg: 9.3\n",
      "Episode 41  -- \tmin: 16.0\tmax: 37.7\tmean: 26.0\tmov. avg: 9.7\n",
      "Episode 42  -- \tmin: 18.8\tmax: 36.0\tmean: 28.9\tmov. avg: 10.1\n",
      "Episode 43  -- \tmin: 17.3\tmax: 33.5\tmean: 27.3\tmov. avg: 10.5\n",
      "Episode 44  -- \tmin: 17.2\tmax: 37.4\tmean: 27.5\tmov. avg: 10.9\n",
      "Episode 45  -- \tmin: 19.5\tmax: 34.4\tmean: 29.3\tmov. avg: 11.3\n",
      "Episode 46  -- \tmin: 21.2\tmax: 38.9\tmean: 29.2\tmov. avg: 11.7\n",
      "Episode 47  -- \tmin: 20.8\tmax: 35.9\tmean: 30.4\tmov. avg: 12.1\n",
      "Episode 48  -- \tmin: 22.0\tmax: 36.6\tmean: 30.2\tmov. avg: 12.5\n",
      "Episode 49  -- \tmin: 20.2\tmax: 35.3\tmean: 30.7\tmov. avg: 12.9\n",
      "Episode 50  -- \tmin: 23.7\tmax: 38.5\tmean: 33.4\tmov. avg: 13.3\n",
      "Episode 51  -- \tmin: 23.7\tmax: 38.9\tmean: 32.4\tmov. avg: 13.7\n",
      "Episode 52  -- \tmin: 20.3\tmax: 39.4\tmean: 32.3\tmov. avg: 14.0\n",
      "Episode 53  -- \tmin: 24.9\tmax: 37.6\tmean: 32.0\tmov. avg: 14.4\n",
      "Episode 54  -- \tmin: 24.8\tmax: 38.3\tmean: 31.4\tmov. avg: 14.7\n",
      "Episode 55  -- \tmin: 21.2\tmax: 39.0\tmean: 31.1\tmov. avg: 15.0\n",
      "Episode 56  -- \tmin: 26.3\tmax: 39.3\tmean: 34.9\tmov. avg: 15.3\n",
      "Episode 57  -- \tmin: 25.9\tmax: 38.8\tmean: 34.2\tmov. avg: 15.7\n",
      "Episode 58  -- \tmin: 26.7\tmax: 39.5\tmean: 35.8\tmov. avg: 16.0\n",
      "Episode 59  -- \tmin: 27.1\tmax: 39.6\tmean: 35.1\tmov. avg: 16.3\n",
      "Episode 60  -- \tmin: 26.3\tmax: 39.6\tmean: 35.8\tmov. avg: 16.7\n",
      "Episode 61  -- \tmin: 30.3\tmax: 39.6\tmean: 36.5\tmov. avg: 17.0\n",
      "Episode 62  -- \tmin: 30.1\tmax: 39.6\tmean: 36.7\tmov. avg: 17.3\n",
      "Episode 63  -- \tmin: 28.1\tmax: 39.6\tmean: 35.5\tmov. avg: 17.6\n",
      "Episode 64  -- \tmin: 31.0\tmax: 39.6\tmean: 36.4\tmov. avg: 17.9\n",
      "Episode 65  -- \tmin: 29.8\tmax: 39.6\tmean: 36.4\tmov. avg: 18.2\n",
      "Episode 66  -- \tmin: 32.7\tmax: 39.6\tmean: 38.2\tmov. avg: 18.5\n",
      "Episode 67  -- \tmin: 34.2\tmax: 39.6\tmean: 37.7\tmov. avg: 18.8\n",
      "Episode 68  -- \tmin: 36.8\tmax: 39.6\tmean: 38.6\tmov. avg: 19.0\n",
      "Episode 69  -- \tmin: 34.9\tmax: 39.7\tmean: 38.5\tmov. avg: 19.3\n",
      "Episode 70  -- \tmin: 36.2\tmax: 39.7\tmean: 39.1\tmov. avg: 19.6\n",
      "Episode 71  -- \tmin: 37.4\tmax: 39.7\tmean: 39.1\tmov. avg: 19.9\n",
      "Episode 72  -- \tmin: 33.8\tmax: 39.7\tmean: 38.1\tmov. avg: 20.1\n",
      "Episode 73  -- \tmin: 33.8\tmax: 39.7\tmean: 38.8\tmov. avg: 20.4\n",
      "Episode 74  -- \tmin: 34.8\tmax: 39.6\tmean: 38.6\tmov. avg: 20.6\n",
      "Episode 75  -- \tmin: 38.4\tmax: 39.7\tmean: 39.3\tmov. avg: 20.9\n",
      "Episode 76  -- \tmin: 36.5\tmax: 39.6\tmean: 38.7\tmov. avg: 21.1\n",
      "Episode 77  -- \tmin: 36.9\tmax: 39.6\tmean: 38.5\tmov. avg: 21.3\n",
      "Episode 78  -- \tmin: 34.9\tmax: 39.7\tmean: 38.5\tmov. avg: 21.6\n",
      "Episode 79  -- \tmin: 36.9\tmax: 39.6\tmean: 39.0\tmov. avg: 21.8\n",
      "Episode 80  -- \tmin: 37.6\tmax: 39.7\tmean: 39.0\tmov. avg: 22.0\n",
      "Episode 81  -- \tmin: 38.5\tmax: 39.7\tmean: 39.3\tmov. avg: 22.2\n",
      "Episode 82  -- \tmin: 37.1\tmax: 39.7\tmean: 38.8\tmov. avg: 22.4\n",
      "Episode 83  -- \tmin: 37.7\tmax: 39.7\tmean: 39.0\tmov. avg: 22.6\n",
      "Episode 84  -- \tmin: 38.7\tmax: 39.7\tmean: 39.3\tmov. avg: 22.8\n",
      "Episode 85  -- \tmin: 36.9\tmax: 39.6\tmean: 39.0\tmov. avg: 23.0\n",
      "Episode 86  -- \tmin: 36.0\tmax: 39.6\tmean: 38.8\tmov. avg: 23.2\n",
      "Episode 87  -- \tmin: 33.4\tmax: 39.6\tmean: 38.0\tmov. avg: 23.4\n",
      "Episode 88  -- \tmin: 34.8\tmax: 39.7\tmean: 38.1\tmov. avg: 23.5\n",
      "Episode 89  -- \tmin: 33.4\tmax: 39.6\tmean: 37.4\tmov. avg: 23.7\n",
      "Episode 90  -- \tmin: 33.8\tmax: 39.3\tmean: 37.6\tmov. avg: 23.8\n",
      "Episode 91  -- \tmin: 35.6\tmax: 39.6\tmean: 38.2\tmov. avg: 24.0\n",
      "Episode 92  -- \tmin: 25.4\tmax: 39.7\tmean: 36.5\tmov. avg: 24.1\n",
      "Episode 93  -- \tmin: 38.4\tmax: 39.7\tmean: 39.2\tmov. avg: 24.3\n",
      "Episode 94  -- \tmin: 34.2\tmax: 39.7\tmean: 39.1\tmov. avg: 24.5\n",
      "Episode 95  -- \tmin: 33.1\tmax: 39.7\tmean: 38.7\tmov. avg: 24.6\n",
      "Episode 96  -- \tmin: 36.2\tmax: 39.6\tmean: 38.8\tmov. avg: 24.8\n",
      "Episode 97  -- \tmin: 37.4\tmax: 39.7\tmean: 39.1\tmov. avg: 24.9\n",
      "Episode 98  -- \tmin: 36.1\tmax: 39.6\tmean: 38.4\tmov. avg: 25.0\n",
      "Episode 99  -- \tmin: 33.5\tmax: 37.9\tmean: 36.1\tmov. avg: 25.1\n",
      "Episode 100  -- \tmin: 32.6\tmax: 39.3\tmean: 37.7\tmov. avg: 25.3\n",
      "Episode 101  -- \tmin: 35.2\tmax: 39.6\tmean: 38.3\tmov. avg: 25.7\n",
      "Episode 102  -- \tmin: 33.8\tmax: 39.7\tmean: 38.4\tmov. avg: 26.0\n",
      "Episode 103  -- \tmin: 37.3\tmax: 39.7\tmean: 39.0\tmov. avg: 26.4\n",
      "Episode 104  -- \tmin: 36.5\tmax: 39.6\tmean: 38.7\tmov. avg: 26.8\n",
      "Episode 105  -- \tmin: 33.9\tmax: 39.7\tmean: 37.8\tmov. avg: 27.1\n",
      "Episode 106  -- \tmin: 35.3\tmax: 39.6\tmean: 38.9\tmov. avg: 27.5\n",
      "Episode 107  -- \tmin: 36.6\tmax: 39.6\tmean: 38.7\tmov. avg: 27.9\n",
      "Episode 108  -- \tmin: 31.8\tmax: 39.4\tmean: 36.9\tmov. avg: 28.2\n",
      "Episode 109  -- \tmin: 23.3\tmax: 39.6\tmean: 34.3\tmov. avg: 28.5\n",
      "Episode 110  -- \tmin: 34.2\tmax: 39.7\tmean: 37.9\tmov. avg: 28.9\n",
      "Episode 111  -- \tmin: 33.2\tmax: 39.6\tmean: 38.1\tmov. avg: 29.2\n",
      "Episode 112  -- \tmin: 37.6\tmax: 39.6\tmean: 39.1\tmov. avg: 29.6\n",
      "Episode 113  -- \tmin: 35.9\tmax: 39.4\tmean: 38.0\tmov. avg: 29.9\n",
      "Episode 114  -- \tmin: 30.5\tmax: 39.6\tmean: 35.8\tmov. avg: 30.2\n",
      "Episode 115  -- \tmin: 35.1\tmax: 39.6\tmean: 38.2\tmov. avg: 30.5\n",
      "Episode 116  -- \tmin: 26.9\tmax: 39.6\tmean: 36.8\tmov. avg: 30.8\n",
      "Episode 117  -- \tmin: 35.5\tmax: 39.4\tmean: 37.7\tmov. avg: 31.2\n",
      "\n",
      "Environment SOLVED in 17 episodes!\tmov avg =31.2 over last 100 episodes\n"
     ]
    }
   ],
   "source": [
    "env_info = env.reset(train_mode=True)[brain_name]      # reset the environment    \n",
    "\n",
    "agent = Agent(state_size=state_size, action_size=action_size, random_seed=1)\n",
    "scores, avgs = train_ddpg()"
   ]
  },
  {
   "cell_type": "code",
   "execution_count": 19,
   "metadata": {},
   "outputs": [
    {
     "data": {
      "image/png": "[encoded data removed]",
      "text/plain": [
       "<Figure size 432x288 with 1 Axes>"
      ]
     },
     "metadata": {
      "needs_background": "light"
     },
     "output_type": "display_data"
    }
   ],
   "source": [
    "import matplotlib.pyplot as plt\n",
    "\n",
    "fig = plt.figure()\n",
    "ax = fig.add_subplot(111)\n",
    "plt.plot(np.arange(len(scores)), scores)\n",
    "plt.plot(np.arange(len(avgs)), avgs)\n",
    "plt.title('ddqn agent')\n",
    "plt.ylabel('Score')\n",
    "plt.xlabel('Episode')\n",
    "plt.legend(['mean','avg'])\n",
    "plt.show()\n"
   ]
  },
  {
   "cell_type": "markdown",
   "metadata": {},
   "source": [
    "### Result\n",
    "\n",
    "An Deep Actor-Critic Model with Deterministic Policy Gradient was used to solve the environment. "
   ]
  },
  {
   "cell_type": "code",
   "execution_count": 24,
   "metadata": {
    "scrolled": true
   },
   "outputs": [
    {
     "data": {
      "text/html": [
       "<video src=\"plots/double-jointed-arm.mp4\" controls  width=\"600\" >\n",
       "      Your browser does not support the <code>video</code> element.\n",
       "    </video>"
      ],
      "text/plain": [
       "<IPython.core.display.Video object>"
      ]
     },
     "execution_count": 24,
     "metadata": {},
     "output_type": "execute_result"
    }
   ],
   "source": [
    "from IPython.display import Video\n",
    "\n",
    "Video(\"plots/double-jointed-arm.mp4\", width=600)"
   ]
  }
 ],
 "metadata": {
  "kernelspec": {
   "display_name": "Python 3",
   "language": "python",
   "name": "python3"
  },
  "language_info": {
   "codemirror_mode": {
    "name": "ipython",
    "version": 3
   },
   "file_extension": ".py",
   "mimetype": "text/x-python",
   "name": "python",
   "nbconvert_exporter": "python",
   "pygments_lexer": "ipython3",
   "version": "3.6.12"
  }
 },
 "nbformat": 4,
 "nbformat_minor": 2
}
