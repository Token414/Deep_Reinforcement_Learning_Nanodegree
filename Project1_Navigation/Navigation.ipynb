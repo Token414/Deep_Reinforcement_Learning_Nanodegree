{
 "cells": [
  {
   "cell_type": "markdown",
   "metadata": {},
   "source": [
    "# Navigation\n",
    "\n",
    "---\n",
    "\n",
    "In this notebook, you will learn how to use the Unity ML-Agents environment for the first project of the [Deep Reinforcement Learning Nanodegree](https://www.udacity.com/course/deep-reinforcement-learning-nanodegree--nd893).\n",
    "\n",
    "### 1. Start the Environment\n",
    "\n",
    "We begin by importing some necessary packages.  If the code cell below returns an error, please revisit the project instructions to double-check that you have installed [Unity ML-Agents](https://github.com/Unity-Technologies/ml-agents/blob/master/docs/Installation.md) and [NumPy](http://www.numpy.org/)."
   ]
  },
  {
   "cell_type": "code",
   "execution_count": 1,
   "metadata": {},
   "outputs": [],
   "source": [
    "from unityagents import UnityEnvironment\n",
    "import numpy as np"
   ]
  },
  {
   "cell_type": "markdown",
   "metadata": {},
   "source": [
    "Next, we will start the environment!  **_Before running the code cell below_**, change the `file_name` parameter to match the location of the Unity environment that you downloaded.\n",
    "\n",
    "- **Mac**: `\"path/to/Banana.app\"`\n",
    "- **Windows** (x86): `\"path/to/Banana_Windows_x86/Banana.exe\"`\n",
    "- **Windows** (x86_64): `\"path/to/Banana_Windows_x86_64/Banana.exe\"`\n",
    "- **Linux** (x86): `\"path/to/Banana_Linux/Banana.x86\"`\n",
    "- **Linux** (x86_64): `\"path/to/Banana_Linux/Banana.x86_64\"`\n",
    "- **Linux** (x86, headless): `\"path/to/Banana_Linux_NoVis/Banana.x86\"`\n",
    "- **Linux** (x86_64, headless): `\"path/to/Banana_Linux_NoVis/Banana.x86_64\"`\n",
    "\n",
    "For instance, if you are using a Mac, then you downloaded `Banana.app`.  If this file is in the same folder as the notebook, then the line below should appear as follows:\n",
    "```\n",
    "env = UnityEnvironment(file_name=\"Banana.app\")\n",
    "```"
   ]
  },
  {
   "cell_type": "code",
   "execution_count": 2,
   "metadata": {},
   "outputs": [
    {
     "name": "stderr",
     "output_type": "stream",
     "text": [
      "INFO:unityagents:\n",
      "'Academy' started successfully!\n",
      "Unity Academy name: Academy\n",
      "        Number of Brains: 1\n",
      "        Number of External Brains : 1\n",
      "        Lesson number : 0\n",
      "        Reset Parameters :\n",
      "\t\t\n",
      "Unity brain name: BananaBrain\n",
      "        Number of Visual Observations (per agent): 0\n",
      "        Vector Observation space type: continuous\n",
      "        Vector Observation space size (per agent): 37\n",
      "        Number of stacked Vector Observation: 1\n",
      "        Vector Action space type: discrete\n",
      "        Vector Action space size (per agent): 4\n",
      "        Vector Action descriptions: , , , \n"
     ]
    }
   ],
   "source": [
    "env = UnityEnvironment(file_name=\"Banana_Windows_x86_64/Banana.exe\")"
   ]
  },
  {
   "cell_type": "markdown",
   "metadata": {},
   "source": [
    "Environments contain **_brains_** which are responsible for deciding the actions of their associated agents. Here we check for the first brain available, and set it as the default brain we will be controlling from Python."
   ]
  },
  {
   "cell_type": "code",
   "execution_count": 3,
   "metadata": {},
   "outputs": [],
   "source": [
    "# get the default brain\n",
    "brain_name = env.brain_names[0]\n",
    "brain = env.brains[brain_name]"
   ]
  },
  {
   "cell_type": "markdown",
   "metadata": {},
   "source": [
    "### 2. Examine the State and Action Spaces\n",
    "\n",
    "The simulation contains a single agent that navigates a large environment.  At each time step, it has four actions at its disposal:\n",
    "- `0` - walk forward \n",
    "- `1` - walk backward\n",
    "- `2` - turn left\n",
    "- `3` - turn right\n",
    "\n",
    "The state space has `37` dimensions and contains the agent's velocity, along with ray-based perception of objects around agent's forward direction.  A reward of `+1` is provided for collecting a yellow banana, and a reward of `-1` is provided for collecting a blue banana. \n",
    "\n",
    "Run the code cell below to print some information about the environment."
   ]
  },
  {
   "cell_type": "code",
   "execution_count": 4,
   "metadata": {},
   "outputs": [
    {
     "name": "stdout",
     "output_type": "stream",
     "text": [
      "Number of agents: 1\n",
      "Number of actions: 4\n",
      "States look like: [1.         0.         0.         0.         0.84408134 0.\n",
      " 0.         1.         0.         0.0748472  0.         1.\n",
      " 0.         0.         0.25755    1.         0.         0.\n",
      " 0.         0.74177343 0.         1.         0.         0.\n",
      " 0.25854847 0.         0.         1.         0.         0.09355672\n",
      " 0.         1.         0.         0.         0.31969345 0.\n",
      " 0.        ]\n",
      "States have length: 37\n"
     ]
    }
   ],
   "source": [
    "# reset the environment\n",
    "env_info = env.reset(train_mode=True)[brain_name]\n",
    "\n",
    "# number of agents in the environment\n",
    "print('Number of agents:', len(env_info.agents))\n",
    "\n",
    "# number of actions\n",
    "action_size = brain.vector_action_space_size\n",
    "print('Number of actions:', action_size)\n",
    "\n",
    "# examine the state space \n",
    "state = env_info.vector_observations[0]\n",
    "print('States look like:', state)\n",
    "state_size = len(state)\n",
    "print('States have length:', state_size)"
   ]
  },
  {
   "cell_type": "markdown",
   "metadata": {},
   "source": [
    "### 3. Take Random Actions in the Environment\n",
    "\n",
    "In the next code cell, you will learn how to use the Python API to control the agent and receive feedback from the environment.\n",
    "\n",
    "Once this cell is executed, you will watch the agent's performance, if it selects an action (uniformly) at random with each time step.  A window should pop up that allows you to observe the agent, as it moves through the environment.  \n",
    "\n",
    "Of course, as part of the project, you'll have to change the code so that the agent is able to use its experience to gradually choose better actions when interacting with the environment!"
   ]
  },
  {
   "cell_type": "code",
   "execution_count": 5,
   "metadata": {},
   "outputs": [
    {
     "name": "stdout",
     "output_type": "stream",
     "text": [
      "Score: 0.0\n"
     ]
    }
   ],
   "source": [
    "\n",
    "env_info = env.reset(train_mode=False)[brain_name] # reset the environment\n",
    "state = env_info.vector_observations[0]            # get the current state\n",
    "score = 0                                          # initialize the score\n",
    "while True:\n",
    "    action = np.random.randint(action_size)        # select an action\n",
    "    env_info = env.step(action)[brain_name]        # send the action to the environment\n",
    "    next_state = env_info.vector_observations[0]   # get the next state\n",
    "    reward = env_info.rewards[0]                   # get the reward\n",
    "    done = env_info.local_done[0]                  # see if episode has finished\n",
    "    score += reward                                # update the score\n",
    "    state = next_state                             # roll over the state to next time step\n",
    "    if done:                                       # exit loop if episode finished\n",
    "        break\n",
    "    \n",
    "print(\"Score: {}\".format(score))\n"
   ]
  },
  {
   "cell_type": "markdown",
   "metadata": {},
   "source": [
    "When finished, you can close the environment."
   ]
  },
  {
   "cell_type": "code",
   "execution_count": 6,
   "metadata": {},
   "outputs": [],
   "source": [
    "#env.close()"
   ]
  },
  {
   "cell_type": "markdown",
   "metadata": {},
   "source": [
    "### 4. It's Your Turn!\n",
    "\n",
    "Now it's your turn to train your own agent to solve the environment!  When training the environment, set `train_mode=True`, so that the line for resetting the environment looks like the following:\n",
    "```python\n",
    "env_info = env.reset(train_mode=True)[brain_name]\n",
    "```"
   ]
  },
  {
   "cell_type": "markdown",
   "metadata": {},
   "source": [
    "### 5. Import Double Q-learning Agent\n",
    "\n",
    "See also \"Deep Reinforcement Learning with Double Q-learning\" by  Google Deep Mind Team: Hado van HasseltandArthur GuezandDavid Silver.\n",
    "https://arxiv.org/abs/1509.06461v3\n",
    "\n",
    "We are using a ϵ-greedy policy with decreasing rate of exploration.\n",
    "\n",
    "\n",
    "#### 1. Initialize the reply memory D with capacity N (BUFFER_SIZE)\n",
    " BUFFER_SIZE = int(1e5)  # replay buffer size\n",
    " \n",
    " BATCH_SIZE = 64         # minibatch size\n",
    " \n",
    " This is done via initialisation of the agent. Check dgn_agent.py for more details\n",
    "            \n",
    "            agent.memory = ReplayBuffer(this_action_size, BUFFER_SIZE, BATCH_SIZE, seed)\n",
    "\n",
    "\n",
    "\n",
    "#### 2. initialize the action-value funtion with a random weight w (seed=0)\n",
    "#### 3. initialize the target action-value weight w'<-w\n",
    " Done in the model.py module within the agent class by initialisation of the agent\n",
    " \n",
    "         # Q-Network\n",
    "           agent.qnetwork_local = QNetwork(state_size, action_size, seed).to(device)\n",
    "           agent.qnetwork_target = QNetwork(state_size, action_size, seed).to(device)\n",
    "\n",
    "#### 4. for episode e <- 1 to M:\n",
    "      - initial input frame x1  \n",
    "      - preprare initial sate: S <-0([x1])\n",
    "        for time step t <- 1 to T:\n",
    "            SAMPLE:\n",
    "              - choose action A from state S using policy pi <- Epsilon-Greedy(^q(S,A,W))   \n",
    "              - take action A, observe reward R, and next input frame xt+1\n",
    "              - Prepare next state S' <- ([xt-2,xt-1, xt,xt+1])\n",
    "              - Store experience tuple (S,A,R,S') in reply memory D\n",
    "              - S <- S'\n",
    "\n",
    "            LEARN\n",
    "              - Obtain random minibatch of tuples (sj,aj,rj,sj+1) from D\n",
    "              - Set target yj = rj +gamma *max(^q(sj+1,a,w'))\n",
    "              - Update: DELTA w = alpha(yj + ^q(sj,aj,w)) NABLA ^q(sj,aj,w)\n",
    "              - Every C Steps, reset: w' <- w\n"
   ]
  },
  {
   "cell_type": "code",
   "execution_count": 7,
   "metadata": {},
   "outputs": [
    {
     "name": "stdout",
     "output_type": "stream",
     "text": [
      "Number of agents: 1\n",
      "\n",
      "\n",
      "Number of actions: 4\n",
      "\n",
      "\n",
      "States look like: [0.         0.         1.         0.         0.16101955 1.\n",
      " 0.         0.         0.         0.04571758 1.         0.\n",
      " 0.         0.         0.2937662  0.         0.         1.\n",
      " 0.         0.14386636 0.         0.         1.         0.\n",
      " 0.16776823 1.         0.         0.         0.         0.04420976\n",
      " 1.         0.         0.         0.         0.05423063 0.\n",
      " 0.        ]\n",
      "\n",
      "\n",
      "States have length: 37\n",
      "True\n",
      "1\n",
      "\n"
     ]
    }
   ],
   "source": [
    "# get the default brain\n",
    "brain_name = env.brain_names[0]\n",
    "brain = env.brains[brain_name]\n",
    "\n",
    "# reset the environment\n",
    "env_info = env.reset(train_mode=True)[brain_name]\n",
    "\n",
    "# number of agents in the environment\n",
    "print('Number of agents:', len(env_info.agents))\n",
    "print('\\n')\n",
    "# number of actions\n",
    "this_action_size = brain.vector_action_space_size\n",
    "print('Number of actions:', this_action_size)\n",
    "print('\\n')\n",
    "# examine the state space \n",
    "state = env_info.vector_observations[0]\n",
    "print('States look like:', state)\n",
    "this_state_size = len(state)\n",
    "print('\\n')\n",
    "print('States have length:', this_state_size)\n",
    "\n",
    "#Init the Agent\n",
    "from dqn_agent import Agent\n",
    "agent = Agent(state_size = this_state_size, action_size=this_action_size, seed=0)\n",
    "\n",
    "# Initialize time step (for updating every UPDATE_EVERY steps)\n",
    "agent.t_step = 0"
   ]
  },
  {
   "cell_type": "code",
   "execution_count": 10,
   "metadata": {},
   "outputs": [
    {
     "name": "stdout",
     "output_type": "stream",
     "text": [
      "Episode 0\tAverage Score: -1.00\n",
      "Episode 100\tAverage Score: 1.69\n",
      "Episode 200\tAverage Score: 4.92\n",
      "Episode 300\tAverage Score: 9.04\n",
      "Episode 400\tAverage Score: 11.24\n",
      "Episode 500\tAverage Score: 12.27\n",
      "\n",
      "Environment solved in 437 episodes!\tAverage Score: 13.08\n"
     ]
    }
   ],
   "source": [
    "from datetime import datetime\n",
    "from collections import deque\n",
    "import torch\n",
    "\n",
    "now = datetime.now()\n",
    "d = now.strftime(\"%Y-%m-%d_%H-%M-%S\")\n",
    "\n",
    "M_EPISODES = 1500\n",
    "\n",
    "# epsilon-greedy policy with decreasing rate of exploration\n",
    "eps_start=1.0\n",
    "eps_end=0.01\n",
    "eps_decay=0.995\n",
    "\n",
    "\n",
    "scores = []                        # list containing scores from each episods\n",
    "scores_window = deque(maxlen=100)  # last 100 scores\n",
    "scores_mean = []                   # list that scores mean of last 100 episodes\n",
    "\n",
    "eps = eps_start\n",
    "for e in range(M_EPISODES):\n",
    "    \n",
    "    env_info = env.reset(train_mode=True)[brain_name]  # reset the environment\n",
    "    state = env_info.vector_observations[0]            # get the current state\n",
    "    score = 0                                          # initialize the score\n",
    "    \n",
    "    while True:\n",
    "        \n",
    "        action = agent.act(state,eps = eps)             # select an action\n",
    "\n",
    "        env_info = env.step(int(action))[brain_name]    # send the action to the environment\n",
    "        \n",
    "        next_state = env_info.vector_observations[0]    # get the next state\n",
    "        \n",
    "        reward = env_info.rewards[0]                    # get the reward\n",
    "        \n",
    "        done = env_info.local_done[0]                   # see if episode has finished\n",
    "        \n",
    "        score += reward                                 # update the score\n",
    "        \n",
    "        agent.step(state, action, reward, next_state, done) # do step \n",
    "                                                            # save experience in a reply buffer\n",
    "                                                            # Learn every UPDATE_EVERY = 4       <- defined in dqn_agent.py \n",
    "        \n",
    "        state = next_state                             # roll over the state to next time step\n",
    "    \n",
    "        if done:                                       # exit loop if episode finished\n",
    "            break\n",
    "    \n",
    "    # save most recent average score\n",
    "    scores_window.append(score)\n",
    "    # save most recent score\n",
    "    scores.append(score)   \n",
    "\n",
    "    # decrease epsilon\n",
    "    eps = max(eps_end, eps_decay*eps)               \n",
    "    \n",
    "    if e % 100 == 0:\n",
    "        print('\\rEPSILON {:.2f}'.format(eps), end=\"\")\n",
    "        print('\\rEpisode {}\\tAverage Score: {:.2f}'.format(e, np.mean(scores_window)))\n",
    "    if e >= 100:\n",
    "        scores_mean.append(np.mean(scores_window))\n",
    "    if np.mean(scores_window)>=13.00:\n",
    "        print('\\nEnvironment solved in {:d} episodes!\\tAverage Score: {:.2f}'.format(e-100, np.mean(scores_window)))\n",
    "        torch.save(agent.qnetwork_local.state_dict(), 'checkpoint_'+d+'_Solved.pth')\n",
    "        break\n",
    "\n",
    "torch.save(agent.qnetwork_local.state_dict(), 'checkpoint_'+d+'_End_Episode.pth')"
   ]
  },
  {
   "cell_type": "code",
   "execution_count": 13,
   "metadata": {},
   "outputs": [
    {
     "data": {
      "image/png": "[encoded data removed]",
      "text/plain": [
       "<Figure size 432x288 with 1 Axes>"
      ]
     },
     "metadata": {
      "needs_background": "light"
     },
     "output_type": "display_data"
    }
   ],
   "source": [
    "import matplotlib.pyplot as plt\n",
    "\n",
    "fig = plt.figure()\n",
    "ax = fig.add_subplot(111)\n",
    "plt.plot(np.arange(len(scores)), scores)\n",
    "plt.title('DQN agent')\n",
    "plt.ylabel('Score')\n",
    "plt.xlabel('Episode #')\n",
    "plt.show()"
   ]
  },
  {
   "cell_type": "code",
   "execution_count": 14,
   "metadata": {},
   "outputs": [
    {
     "data": {
      "image/png": "[encoded data removed]",
      "text/plain": [
       "<Figure size 432x288 with 1 Axes>"
      ]
     },
     "metadata": {
      "needs_background": "light"
     },
     "output_type": "display_data"
    }
   ],
   "source": [
    "fig = plt.figure()\n",
    "ax = fig.add_subplot(111)\n",
    "plt.plot(np.arange(len(scores_mean)), scores_mean)\n",
    "plt.title('DQN agent')\n",
    "plt.ylabel('Score for the last 100 episodes')\n",
    "plt.xlabel('Episode #')\n",
    "plt.show()"
   ]
  },
  {
   "cell_type": "markdown",
   "metadata": {},
   "source": [
    "### 6. Load trained agent and show in action"
   ]
  },
  {
   "cell_type": "code",
   "execution_count": 11,
   "metadata": {},
   "outputs": [],
   "source": [
    "# reset the environment\n",
    "env_info = env.reset(train_mode=False)[brain_name]\n",
    "\n",
    "this_action_size = brain.vector_action_space_size\n",
    "state = env_info.vector_observations[0]\n",
    "this_state_size = len(state)\n",
    "\n",
    "\n",
    "''' INI the AGENT '''\n",
    "agent = Agent(state_size = this_state_size, action_size = this_action_size, seed=0)\n",
    "''' LOAD Trained Weights '''\n",
    "agent.qnetwork_local.load_state_dict(torch.load('checkpoint_2020-12-20_13-14-29_Solved.pth'))\n",
    "\n",
    "M_EPISODES = 5\n",
    "KEEP_Action_EVERY_N_STATES = 1\n",
    "\n",
    "action_count = 0\n",
    "\n",
    "for e in range(M_EPISODES):\n",
    "    \n",
    "    env_info = env.reset(train_mode=False)[brain_name] # reset the environment\n",
    "    state = env_info.vector_observations[0]            # get the current state\n",
    "    score = 0                                          # initialize the score\n",
    "    \n",
    "    while True:\n",
    "        \n",
    "        next_action = agent.act(state,eps = 0)         # select an action\n",
    "        \n",
    "        update_actio = action_count % KEEP_Action_EVERY_N_STATES # keep action for n frames\n",
    "        if  update_actio==0:     \n",
    "            action = next_action\n",
    "        \n",
    "        action_count += 1\n",
    "        env_info = env.step(int(action))[brain_name]        # send the action to the environment\n",
    "        \n",
    "        next_state = env_info.vector_observations[0]   # get the next state\n",
    "        done = env_info.local_done[0]                  # see if episode has finished\n",
    "        \n",
    "        state = next_state                             # roll over the state to next time step\n",
    "        \n",
    "\n",
    "    \n",
    "        if done:                                       # exit loop if episode finished\n",
    "            break\n",
    "        \n"
   ]
  },
  {
   "cell_type": "code",
   "execution_count": 12,
   "metadata": {},
   "outputs": [],
   "source": [
    "# Close environment\n",
    "env.close()"
   ]
  },
  {
   "cell_type": "markdown",
   "metadata": {},
   "source": [
    "![SegmentLocal](plots/Navigation_DQN.gif \"segment\")"
   ]
  },
  {
   "cell_type": "markdown",
   "metadata": {},
   "source": []
  },
  {
   "cell_type": "code",
   "execution_count": null,
   "metadata": {},
   "outputs": [],
   "source": []
  }
 ],
 "metadata": {
  "kernelspec": {
   "display_name": "drlnd",
   "language": "python",
   "name": "drlnd"
  },
  "language_info": {
   "codemirror_mode": {
    "name": "ipython",
    "version": 3
   },
   "file_extension": ".py",
   "mimetype": "text/x-python",
   "name": "python",
   "nbconvert_exporter": "python",
   "pygments_lexer": "ipython3",
   "version": "3.6.12"
  }
 },
 "nbformat": 4,
 "nbformat_minor": 2
}
