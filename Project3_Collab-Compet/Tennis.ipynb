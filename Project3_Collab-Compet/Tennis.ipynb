{
 "cells": [
  {
   "cell_type": "markdown",
   "metadata": {},
   "source": [
    "# Collaboration and Competition\n",
    "\n",
    "---\n",
    "\n",
    "In this notebook, you will learn how to use the Unity ML-Agents environment for the third project of the [Deep Reinforcement Learning Nanodegree](https://www.udacity.com/course/deep-reinforcement-learning-nanodegree--nd893) program.\n",
    "\n",
    "### 1. Start the Environment\n",
    "\n",
    "We begin by importing the necessary packages.  If the code cell below returns an error, please revisit the project instructions to double-check that you have installed [Unity ML-Agents](https://github.com/Unity-Technologies/ml-agents/blob/master/docs/Installation.md) and [NumPy](http://www.numpy.org/)."
   ]
  },
  {
   "cell_type": "code",
   "execution_count": 2,
   "metadata": {},
   "outputs": [],
   "source": [
    "from unityagents import UnityEnvironment\n",
    "import numpy as np"
   ]
  },
  {
   "cell_type": "markdown",
   "metadata": {},
   "source": [
    "Next, we will start the environment!  **_Before running the code cell below_**, change the `file_name` parameter to match the location of the Unity environment that you downloaded.\n",
    "\n",
    "- **Mac**: `\"path/to/Tennis.app\"`\n",
    "- **Windows** (x86): `\"path/to/Tennis_Windows_x86/Tennis.exe\"`\n",
    "- **Windows** (x86_64): `\"path/to/Tennis_Windows_x86_64/Tennis.exe\"`\n",
    "- **Linux** (x86): `\"path/to/Tennis_Linux/Tennis.x86\"`\n",
    "- **Linux** (x86_64): `\"path/to/Tennis_Linux/Tennis.x86_64\"`\n",
    "- **Linux** (x86, headless): `\"path/to/Tennis_Linux_NoVis/Tennis.x86\"`\n",
    "- **Linux** (x86_64, headless): `\"path/to/Tennis_Linux_NoVis/Tennis.x86_64\"`\n",
    "\n",
    "For instance, if you are using a Mac, then you downloaded `Tennis.app`.  If this file is in the same folder as the notebook, then the line below should appear as follows:\n",
    "```\n",
    "env = UnityEnvironment(file_name=\"Tennis.app\")\n",
    "```"
   ]
  },
  {
   "cell_type": "code",
   "execution_count": 3,
   "metadata": {},
   "outputs": [
    {
     "name": "stderr",
     "output_type": "stream",
     "text": [
      "INFO:unityagents:\n",
      "'Academy' started successfully!\n",
      "Unity Academy name: Academy\n",
      "        Number of Brains: 1\n",
      "        Number of External Brains : 1\n",
      "        Lesson number : 0\n",
      "        Reset Parameters :\n",
      "\t\t\n",
      "Unity brain name: TennisBrain\n",
      "        Number of Visual Observations (per agent): 0\n",
      "        Vector Observation space type: continuous\n",
      "        Vector Observation space size (per agent): 8\n",
      "        Number of stacked Vector Observation: 3\n",
      "        Vector Action space type: continuous\n",
      "        Vector Action space size (per agent): 2\n",
      "        Vector Action descriptions: , \n"
     ]
    }
   ],
   "source": [
    "env = UnityEnvironment(file_name=\"Tennis_Windows_x86_64\\Tennis.exe\")"
   ]
  },
  {
   "cell_type": "markdown",
   "metadata": {},
   "source": [
    "Environments contain **_brains_** which are responsible for deciding the actions of their associated agents. Here we check for the first brain available, and set it as the default brain we will be controlling from Python."
   ]
  },
  {
   "cell_type": "code",
   "execution_count": 4,
   "metadata": {},
   "outputs": [],
   "source": [
    "# get the default brain\n",
    "brain_name = env.brain_names[0]\n",
    "brain = env.brains[brain_name]"
   ]
  },
  {
   "cell_type": "markdown",
   "metadata": {},
   "source": [
    "### 2. Examine the State and Action Spaces\n",
    "\n",
    "In this environment, two agents control rackets to bounce a ball over a net. If an agent hits the ball over the net, it receives a reward of +0.1.  If an agent lets a ball hit the ground or hits the ball out of bounds, it receives a reward of -0.01.  Thus, the goal of each agent is to keep the ball in play.\n",
    "\n",
    "The observation space consists of 8 variables corresponding to the position and velocity of the ball and racket. Two continuous actions are available, corresponding to movement toward (or away from) the net, and jumping. \n",
    "\n",
    "Run the code cell below to print some information about the environment."
   ]
  },
  {
   "cell_type": "code",
   "execution_count": 5,
   "metadata": {},
   "outputs": [
    {
     "name": "stdout",
     "output_type": "stream",
     "text": [
      "Number of agents: 2\n",
      "Size of each action: 2\n",
      "There are 2 agents. Each observes a state with length: 24\n",
      "The state for the first agent looks like: [ 0.          0.          0.          0.          0.          0.\n",
      "  0.          0.          0.          0.          0.          0.\n",
      "  0.          0.          0.          0.         -6.65278625 -1.5\n",
      " -0.          0.          6.83172083  6.         -0.          0.        ]\n"
     ]
    }
   ],
   "source": [
    "# reset the environment\n",
    "env_info = env.reset(train_mode=False)[brain_name]\n",
    "\n",
    "# number of agents \n",
    "num_agents = len(env_info.agents)\n",
    "print('Number of agents:', num_agents)\n",
    "\n",
    "# size of each action\n",
    "action_size = brain.vector_action_space_size\n",
    "print('Size of each action:', action_size)\n",
    "\n",
    "# examine the state space \n",
    "states = env_info.vector_observations\n",
    "state_size = states.shape[1]\n",
    "print('There are {} agents. Each observes a state with length: {}'.format(states.shape[0], state_size))\n",
    "print('The state for the first agent looks like:', states[0])"
   ]
  },
  {
   "cell_type": "markdown",
   "metadata": {},
   "source": [
    "### 3. Take Random Actions in the Environment\n",
    "\n",
    "In the next code cell, you will learn how to use the Python API to control the agents and receive feedback from the environment.\n",
    "\n",
    "Once this cell is executed, you will watch the agents' performance, if they select actions at random with each time step.  A window should pop up that allows you to observe the agents.\n",
    "\n",
    "Of course, as part of the project, you'll have to change the code so that the agents are able to use their experiences to gradually choose better actions when interacting with the environment!"
   ]
  },
  {
   "cell_type": "code",
   "execution_count": 6,
   "metadata": {},
   "outputs": [
    {
     "data": {
      "text/plain": [
       "\"\\nfor i in range(1, 6):                                      # play game for 5 episodes\\n    env_info = env.reset(train_mode=False)[brain_name]     # reset the environment    \\n    states = env_info.vector_observations                  # get the current state (for each agent)\\n    scores = np.zeros(num_agents)                          # initialize the score (for each agent)\\n    while True:\\n        actions = np.random.randn(num_agents, action_size) # select an action (for each agent)\\n        actions = np.clip(actions, -1, 1)                  # all actions between -1 and 1\\n        env_info = env.step(actions)[brain_name]           # send all actions to tne environment\\n        next_states = env_info.vector_observations         # get next state (for each agent)\\n        rewards = env_info.rewards                         # get reward (for each agent)\\n        dones = env_info.local_done                        # see if episode finished\\n        scores += env_info.rewards                         # update the score (for each agent)\\n        states = next_states                               # roll over states to next time step\\n        if np.any(dones):                                  # exit loop if episode finished\\n            break\\n    print('Score (max over agents) from episode {}: {}'.format(i, np.max(scores)))\\n\""
      ]
     },
     "execution_count": 6,
     "metadata": {},
     "output_type": "execute_result"
    }
   ],
   "source": [
    "'''\n",
    "for i in range(1, 6):                                      # play game for 5 episodes\n",
    "    env_info = env.reset(train_mode=False)[brain_name]     # reset the environment    \n",
    "    states = env_info.vector_observations                  # get the current state (for each agent)\n",
    "    scores = np.zeros(num_agents)                          # initialize the score (for each agent)\n",
    "    while True:\n",
    "        actions = np.random.randn(num_agents, action_size) # select an action (for each agent)\n",
    "        actions = np.clip(actions, -1, 1)                  # all actions between -1 and 1\n",
    "        env_info = env.step(actions)[brain_name]           # send all actions to tne environment\n",
    "        next_states = env_info.vector_observations         # get next state (for each agent)\n",
    "        rewards = env_info.rewards                         # get reward (for each agent)\n",
    "        dones = env_info.local_done                        # see if episode finished\n",
    "        scores += env_info.rewards                         # update the score (for each agent)\n",
    "        states = next_states                               # roll over states to next time step\n",
    "        if np.any(dones):                                  # exit loop if episode finished\n",
    "            break\n",
    "    print('Score (max over agents) from episode {}: {}'.format(i, np.max(scores)))\n",
    "'''"
   ]
  },
  {
   "cell_type": "markdown",
   "metadata": {},
   "source": [
    "When finished, you can close the environment."
   ]
  },
  {
   "cell_type": "code",
   "execution_count": 7,
   "metadata": {},
   "outputs": [],
   "source": [
    "#env.close()"
   ]
  },
  {
   "cell_type": "markdown",
   "metadata": {},
   "source": [
    "### 4. It's Your Turn!\n",
    "\n",
    "Now it's your turn to train your own agent to solve the environment!  When training the environment, set `train_mode=True`, so that the line for resetting the environment looks like the following:\n",
    "```python\n",
    "env_info = env.reset(train_mode=True)[brain_name]\n",
    "```"
   ]
  },
  {
   "cell_type": "code",
   "execution_count": 9,
   "metadata": {},
   "outputs": [],
   "source": [
    "env_info = env.reset(train_mode=True)[brain_name]     # reset the environment    \n",
    "states = env_info.vector_observations                  # get the current state (for each agent)\n",
    "scores = np.zeros(num_agents)                          # initialize the score (for each agent)"
   ]
  },
  {
   "cell_type": "code",
   "execution_count": 10,
   "metadata": {},
   "outputs": [],
   "source": [
    "from ddpg_agent import Agent\n",
    "from collections import deque\n",
    "from datetime import datetime\n",
    "import torch\n",
    "\n",
    "# Initialize Feed-forward DNNs for Actor and Critic models. \n",
    "agent = Agent(state_size = env_info.vector_observations.shape[1] , action_size = brain.vector_action_space_size ,random_seed=42)\n",
    "\n",
    "# get some date and time for same names \n",
    "now = datetime.now()\n",
    "d = now.strftime(\"%Y-%m-%d_%H-%M-%S\")\n",
    "\n"
   ]
  },
  {
   "cell_type": "code",
   "execution_count": 14,
   "metadata": {},
   "outputs": [],
   "source": [
    "import torch\n",
    "import numpy as np\n",
    "from collections import deque\n",
    "from unityagents import UnityEnvironment\n",
    "from ddpg_agent import Agent\n",
    "\n",
    "\n",
    "def train_ddpg(n_episodes=10000, max_t=1000, solved_score=0.51, score_episodes=100,  train_mode=True):\n",
    "    \"\"\" DDPG - Deep Deterministic Policy Gradient\n",
    "    Train a reinforcement agent  (s) over n episodes \n",
    "    \n",
    "    Params\n",
    "    ======\n",
    "        n_episodes (int)      : maximum number of training episodes\n",
    "        max_t (int)           : maximum number of timesteps per episode\n",
    "        train_mode (bool)     : if 'True' set environment to training mode\n",
    "        solved_score (float)  : minimum average score over 'score_episodes' to solve the environment\n",
    "        score_episodes  (int) : number of episodes the agents must reach minimum score to solve environment\n",
    "\n",
    "    \"\"\"\n",
    "    \n",
    "    actor_weights ='trained_agent/actor_weights.pth'\n",
    "    critic_weights ='trained_agent/critic_weights.pth'\n",
    "    \n",
    "    mean_scores = []                               # mean scores from each episode\n",
    "    min_scores = []                                # lowest scores from each episode\n",
    "    max_scores = []                                # highest scores from each episode\n",
    "    best_score = -np.inf\n",
    "    scores_window = deque(maxlen=score_episodes )  # deque of mean scores over last score_episodes\n",
    "    moving_avgs = []                               # moving average to solve env\n",
    "    \n",
    "    for i_episode in range(1, n_episodes+1):\n",
    "        env_info = env.reset(train_mode=train_mode)[brain_name] # reset environment\n",
    "        states = env_info.vector_observations                   # get current state for each agent      \n",
    "        scores = np.zeros(num_agents)                           # initialize score for each agent\n",
    "        agent.reset()\n",
    "\n",
    "        for t in range(max_t):\n",
    "            # loop ovrt  t_max timesteps\n",
    "            actions = agent.act(states, add_noise=True)         # select an action\n",
    "            env_info = env.step(actions)[brain_name]            # send actions to environment\n",
    "            next_states = env_info.vector_observations          # get next state\n",
    "            rewards = env_info.rewards                          # get reward\n",
    "            dones = env_info.local_done                         # see if episode has finished\n",
    "            \n",
    "            # save experience to replay buffer, perform learning step at defined interval\n",
    "            for state, action, reward, next_state, done in zip(states, actions, rewards, next_states, dones):\n",
    "                agent.step(state, action, reward, next_state, done, t)\n",
    "            states = next_states\n",
    "            scores += rewards        \n",
    "            if np.any(dones):                                   # exit loop when episode ends\n",
    "                break\n",
    "\n",
    "        min_scores.append(np.min(scores))             # min score over all agents\n",
    "        max_scores.append(np.max(scores))             # max score  over all agents \n",
    "        mean_scores.append(np.mean(scores))           # mean score  over all agents for the episode\n",
    "        scores_window.append(mean_scores[-1])         # mean score to window\n",
    "        moving_avgs.append(np.mean(scores_window))    # moving average\n",
    "\n",
    "        if i_episode % 100 == 0:\n",
    "            print('\\rEpisode {}  -- \\tmin: {:.1f}\\tmax: {:.1f}\\tmean: {:.1f}\\tmov. avg: {:.1f}'.format(\\\n",
    "                i_episode,  min_scores[-1], max_scores[-1], mean_scores[-1], moving_avgs[-1]))\n",
    "        \n",
    "        if train_mode and mean_scores[-1] > best_score:\n",
    "            torch.save(agent.actor_local.state_dict(), actor_weights)\n",
    "            torch.save(agent.critic_local.state_dict(), critic_weights)\n",
    "                  \n",
    "        if moving_avgs[-1] >= solved_score and i_episode >= score_episodes :\n",
    "            print('\\nEnvironment SOLVED in {} episodes!\\tmov avg ={:.1f} over last {} episodes'.format(\\\n",
    "                                    i_episode-score_episodes , moving_avgs[-1], score_episodes ))            \n",
    "            if train_mode:\n",
    "                torch.save(agent.actor_local.state_dict(), 'trained_agent/'+d+'_actor_Solved.pth')\n",
    "                torch.save(agent.critic_local.state_dict(), 'trained_agent/'+d+'_critic_Solved.pth') \n",
    "            break\n",
    "            \n",
    "    return mean_scores, moving_avgs"
   ]
  },
  {
   "cell_type": "code",
   "execution_count": 15,
   "metadata": {},
   "outputs": [
    {
     "name": "stdout",
     "output_type": "stream",
     "text": [
      "Episode 100  -- \tmin: -0.0\tmax: 0.0\tmean: -0.0\tmov. avg: -0.0\n",
      "Episode 200  -- \tmin: -0.0\tmax: 0.0\tmean: -0.0\tmov. avg: -0.0\n",
      "Episode 300  -- \tmin: -0.0\tmax: 0.0\tmean: -0.0\tmov. avg: -0.0\n",
      "Episode 400  -- \tmin: -0.0\tmax: 0.0\tmean: -0.0\tmov. avg: -0.0\n",
      "Episode 500  -- \tmin: -0.0\tmax: 0.0\tmean: -0.0\tmov. avg: -0.0\n",
      "Episode 600  -- \tmin: -0.0\tmax: 0.0\tmean: -0.0\tmov. avg: -0.0\n",
      "Episode 700  -- \tmin: -0.0\tmax: 0.0\tmean: -0.0\tmov. avg: -0.0\n",
      "Episode 800  -- \tmin: -0.0\tmax: 0.1\tmean: 0.0\tmov. avg: 0.0\n",
      "Episode 900  -- \tmin: -0.0\tmax: 0.1\tmean: 0.0\tmov. avg: 0.0\n",
      "Episode 1000  -- \tmin: -0.0\tmax: 0.1\tmean: 0.0\tmov. avg: 0.0\n",
      "Episode 1100  -- \tmin: -0.0\tmax: 0.1\tmean: 0.0\tmov. avg: 0.0\n",
      "Episode 1200  -- \tmin: -0.0\tmax: 0.1\tmean: 0.0\tmov. avg: 0.0\n",
      "Episode 1300  -- \tmin: 0.0\tmax: 0.1\tmean: 0.0\tmov. avg: 0.1\n",
      "Episode 1400  -- \tmin: -0.0\tmax: 0.1\tmean: 0.0\tmov. avg: 0.1\n",
      "Episode 1500  -- \tmin: -0.0\tmax: 0.2\tmean: 0.1\tmov. avg: 0.1\n",
      "Episode 1600  -- \tmin: 0.1\tmax: 0.2\tmean: 0.1\tmov. avg: 0.1\n",
      "Episode 1700  -- \tmin: -0.0\tmax: 0.1\tmean: 0.0\tmov. avg: 0.1\n",
      "Episode 1800  -- \tmin: -0.0\tmax: 0.0\tmean: -0.0\tmov. avg: 0.1\n",
      "Episode 1900  -- \tmin: -0.0\tmax: 0.1\tmean: 0.0\tmov. avg: 0.1\n",
      "Episode 2000  -- \tmin: 0.1\tmax: 0.1\tmean: 0.1\tmov. avg: 0.2\n",
      "Episode 2100  -- \tmin: 0.1\tmax: 0.1\tmean: 0.1\tmov. avg: 0.1\n",
      "Episode 2200  -- \tmin: 0.1\tmax: 0.1\tmean: 0.1\tmov. avg: 0.2\n",
      "Episode 2300  -- \tmin: 0.1\tmax: 0.2\tmean: 0.1\tmov. avg: 0.2\n",
      "Episode 2400  -- \tmin: 0.1\tmax: 0.1\tmean: 0.1\tmov. avg: 0.2\n",
      "Episode 2500  -- \tmin: -0.0\tmax: 0.1\tmean: 0.0\tmov. avg: 0.2\n",
      "Episode 2600  -- \tmin: 0.4\tmax: 0.5\tmean: 0.4\tmov. avg: 0.2\n",
      "Episode 2700  -- \tmin: -0.0\tmax: 0.1\tmean: 0.0\tmov. avg: 0.2\n",
      "Episode 2800  -- \tmin: -0.0\tmax: 0.1\tmean: 0.0\tmov. avg: 0.3\n",
      "Episode 2900  -- \tmin: -0.0\tmax: 0.1\tmean: 0.0\tmov. avg: 0.2\n",
      "Episode 3000  -- \tmin: -0.0\tmax: 0.1\tmean: 0.0\tmov. avg: 0.2\n",
      "Episode 3100  -- \tmin: 0.1\tmax: 0.1\tmean: 0.1\tmov. avg: 0.2\n",
      "Episode 3200  -- \tmin: 0.1\tmax: 0.1\tmean: 0.1\tmov. avg: 0.3\n",
      "Episode 3300  -- \tmin: 0.4\tmax: 0.5\tmean: 0.4\tmov. avg: 0.2\n",
      "Episode 3400  -- \tmin: 0.1\tmax: 0.1\tmean: 0.1\tmov. avg: 0.3\n",
      "Episode 3500  -- \tmin: -0.0\tmax: 0.1\tmean: 0.0\tmov. avg: 0.5\n",
      "\n",
      "Environment SOLVED in 3411 episodes!\tmov avg =0.5 over last 100 episodes\n"
     ]
    }
   ],
   "source": [
    "env_info = env.reset(train_mode=True)[brain_name]      # reset the environment    \n",
    "\n",
    "agent = Agent(state_size=state_size, action_size=action_size, random_seed=1)\n",
    "scores, avgs = train_ddpg()"
   ]
  },
  {
   "cell_type": "code",
   "execution_count": 16,
   "metadata": {},
   "outputs": [
    {
     "data": {
      "image/png": "[encoded data removed]",
      "text/plain": [
       "<Figure size 432x288 with 1 Axes>"
      ]
     },
     "metadata": {
      "needs_background": "light"
     },
     "output_type": "display_data"
    }
   ],
   "source": [
    "import matplotlib.pyplot as plt\n",
    "\n",
    "fig = plt.figure()\n",
    "ax = fig.add_subplot(111)\n",
    "plt.plot(np.arange(len(scores)), scores)\n",
    "plt.plot(np.arange(len(avgs)), avgs)\n",
    "plt.title('ddqn agent')\n",
    "plt.ylabel('Score')\n",
    "plt.xlabel('Episode')\n",
    "plt.legend(['mean','avg'])\n",
    "plt.show()"
   ]
  },
  {
   "cell_type": "code",
   "execution_count": null,
   "metadata": {},
   "outputs": [],
   "source": [
    "env.close()"
   ]
  },
  {
   "cell_type": "markdown",
   "metadata": {},
   "source": [
    "![SegmentLocal](plots/Tennis_DDPG.gif \"segment\")"
   ]
  },
  {
   "cell_type": "code",
   "execution_count": null,
   "metadata": {},
   "outputs": [],
   "source": []
  }
 ],
 "metadata": {
  "kernelspec": {
   "display_name": "Python 3",
   "language": "python",
   "name": "python3"
  },
  "language_info": {
   "codemirror_mode": {
    "name": "ipython",
    "version": 3
   },
   "file_extension": ".py",
   "mimetype": "text/x-python",
   "name": "python",
   "nbconvert_exporter": "python",
   "pygments_lexer": "ipython3",
   "version": "3.6.12"
  }
 },
 "nbformat": 4,
 "nbformat_minor": 2
}
